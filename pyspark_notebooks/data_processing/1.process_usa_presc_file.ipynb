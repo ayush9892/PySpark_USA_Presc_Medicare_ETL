{
 "cells": [
  {
   "cell_type": "markdown",
   "metadata": {
    "application/vnd.databricks.v1+cell": {
     "cellMetadata": {
      "byteLimit": 2048000,
      "rowLimit": 10000
     },
     "inputWidgets": {},
     "nuid": "d2bbec30-da2a-4905-8c6b-b8becb8add69",
     "showTitle": false,
     "title": ""
    }
   },
   "source": [
    "#### 1. Read usa_presc_medicare dataframe"
   ]
  },
  {
   "cell_type": "code",
   "execution_count": 0,
   "metadata": {
    "application/vnd.databricks.v1+cell": {
     "cellMetadata": {
      "byteLimit": 2048000,
      "rowLimit": 10000
     },
     "inputWidgets": {},
     "nuid": "3b4d5914-47d1-4417-92e4-2c285658c353",
     "showTitle": false,
     "title": ""
    }
   },
   "outputs": [
    {
     "output_type": "display_data",
     "data": {
      "text/html": [
       "<style scoped>\n",
       "  .table-result-container {\n",
       "    max-height: 300px;\n",
       "    overflow: auto;\n",
       "  }\n",
       "  table, th, td {\n",
       "    border: 1px solid black;\n",
       "    border-collapse: collapse;\n",
       "  }\n",
       "  th, td {\n",
       "    padding: 5px;\n",
       "  }\n",
       "  th {\n",
       "    text-align: left;\n",
       "  }\n",
       "</style><div class='table-result-container'><table class='table-result'><thead style='background-color: white'><tr><th>npi</th><th>nppes_provider_last_org_name</th><th>nppes_provider_first_name</th><th>nppes_provider_city</th><th>nppes_provider_state</th><th>specialty_description</th><th>description_flag</th><th>drug_name</th><th>generic_name</th><th>bene_count</th><th>total_claim_count</th><th>total_30_day_fill_count</th><th>total_day_supply</th><th>total_drug_cost</th><th>bene_count_ge65</th><th>bene_count_ge65_suppress_flag</th><th>total_claim_count_ge65</th><th>ge65_suppress_flag</th><th>total_30_day_fill_count_ge65</th><th>total_day_supply_ge65</th><th>total_drug_cost_ge65</th><th>years_of_exp</th></tr></thead><tbody><tr><td>2006000252</td><td>ENKESHAFI</td><td>ARDALAN</td><td>CUMBERLAND</td><td>MD</td><td>Internal Medicine</td><td>S</td><td>ATORVASTATIN CALCIUM</td><td>ATORVASTATIN CALCIUM</td><td>null</td><td>13</td><td>15.0</td><td>450</td><td>139.32</td><td>null</td><td>*</td><td>13</td><td>null</td><td>15.0</td><td>450</td><td>139.32</td><td>= 45.0</td></tr><tr><td>2006000252</td><td>ENKESHAFI</td><td>ARDALAN</td><td>CUMBERLAND</td><td>MD</td><td>Internal Medicine</td><td>S</td><td>CIPROFLOXACIN HCL</td><td>CIPROFLOXACIN HCL</td><td>null</td><td>11</td><td>11.0</td><td>96</td><td>80.99</td><td>null</td><td>*</td><td>null</td><td>*</td><td>null</td><td>null</td><td>null</td><td>= 43.0</td></tr><tr><td>2006000252</td><td>ENKESHAFI</td><td>ARDALAN</td><td>CUMBERLAND</td><td>MD</td><td>Internal Medicine</td><td>S</td><td>DOXYCYCLINE HYCLATE</td><td>DOXYCYCLINE HYCLATE</td><td>20</td><td>20</td><td>20.0</td><td>199</td><td>586.12</td><td>null</td><td>#</td><td>null</td><td>#</td><td>null</td><td>null</td><td>null</td><td>= 33.0</td></tr><tr><td>2006000252</td><td>ENKESHAFI</td><td>ARDALAN</td><td>CUMBERLAND</td><td>MD</td><td>Internal Medicine</td><td>S</td><td>ELIQUIS</td><td>APIXABAN</td><td>null</td><td>17</td><td>17.0</td><td>510</td><td>6065.02</td><td>null</td><td>*</td><td>17</td><td>null</td><td>17.0</td><td>510</td><td>6065.02</td><td>= 44.0</td></tr><tr><td>2006000252</td><td>ENKESHAFI</td><td>ARDALAN</td><td>CUMBERLAND</td><td>MD</td><td>Internal Medicine</td><td>S</td><td>FUROSEMIDE</td><td>FUROSEMIDE</td><td>12</td><td>17</td><td>17.0</td><td>405</td><td>45.76</td><td>null</td><td>#</td><td>null</td><td>#</td><td>null</td><td>null</td><td>null</td><td>= 55.0</td></tr></tbody></table></div>"
      ]
     },
     "metadata": {
      "application/vnd.databricks.v1+output": {
       "addedWidgets": {},
       "aggData": [],
       "aggError": "",
       "aggOverflow": false,
       "aggSchema": [],
       "aggSeriesLimitReached": false,
       "aggType": "",
       "arguments": {},
       "columnCustomDisplayInfos": {},
       "data": [
        [
         2006000252,
         "ENKESHAFI",
         "ARDALAN",
         "CUMBERLAND",
         "MD",
         "Internal Medicine",
         "S",
         "ATORVASTATIN CALCIUM",
         "ATORVASTATIN CALCIUM",
         null,
         13,
         15.0,
         450,
         139.32,
         null,
         "*",
         13,
         null,
         15.0,
         450,
         139.32,
         "= 45.0"
        ],
        [
         2006000252,
         "ENKESHAFI",
         "ARDALAN",
         "CUMBERLAND",
         "MD",
         "Internal Medicine",
         "S",
         "CIPROFLOXACIN HCL",
         "CIPROFLOXACIN HCL",
         null,
         11,
         11.0,
         96,
         80.99,
         null,
         "*",
         null,
         "*",
         null,
         null,
         null,
         "= 43.0"
        ],
        [
         2006000252,
         "ENKESHAFI",
         "ARDALAN",
         "CUMBERLAND",
         "MD",
         "Internal Medicine",
         "S",
         "DOXYCYCLINE HYCLATE",
         "DOXYCYCLINE HYCLATE",
         20,
         20,
         20.0,
         199,
         586.12,
         null,
         "#",
         null,
         "#",
         null,
         null,
         null,
         "= 33.0"
        ],
        [
         2006000252,
         "ENKESHAFI",
         "ARDALAN",
         "CUMBERLAND",
         "MD",
         "Internal Medicine",
         "S",
         "ELIQUIS",
         "APIXABAN",
         null,
         17,
         17.0,
         510,
         6065.02,
         null,
         "*",
         17,
         null,
         17.0,
         510,
         6065.02,
         "= 44.0"
        ],
        [
         2006000252,
         "ENKESHAFI",
         "ARDALAN",
         "CUMBERLAND",
         "MD",
         "Internal Medicine",
         "S",
         "FUROSEMIDE",
         "FUROSEMIDE",
         12,
         17,
         17.0,
         405,
         45.76,
         null,
         "#",
         null,
         "#",
         null,
         null,
         null,
         "= 55.0"
        ]
       ],
       "datasetInfos": [],
       "dbfsResultPath": null,
       "isJsonSchema": true,
       "metadata": {},
       "overflow": false,
       "plotOptions": {
        "customPlotOptions": {},
        "displayType": "table",
        "pivotAggregation": null,
        "pivotColumns": null,
        "xColumns": null,
        "yColumns": null
       },
       "removedWidgets": [],
       "schema": [
        {
         "metadata": "{}",
         "name": "npi",
         "type": "\"integer\""
        },
        {
         "metadata": "{}",
         "name": "nppes_provider_last_org_name",
         "type": "\"string\""
        },
        {
         "metadata": "{}",
         "name": "nppes_provider_first_name",
         "type": "\"string\""
        },
        {
         "metadata": "{}",
         "name": "nppes_provider_city",
         "type": "\"string\""
        },
        {
         "metadata": "{}",
         "name": "nppes_provider_state",
         "type": "\"string\""
        },
        {
         "metadata": "{}",
         "name": "specialty_description",
         "type": "\"string\""
        },
        {
         "metadata": "{}",
         "name": "description_flag",
         "type": "\"string\""
        },
        {
         "metadata": "{}",
         "name": "drug_name",
         "type": "\"string\""
        },
        {
         "metadata": "{}",
         "name": "generic_name",
         "type": "\"string\""
        },
        {
         "metadata": "{}",
         "name": "bene_count",
         "type": "\"integer\""
        },
        {
         "metadata": "{}",
         "name": "total_claim_count",
         "type": "\"integer\""
        },
        {
         "metadata": "{}",
         "name": "total_30_day_fill_count",
         "type": "\"double\""
        },
        {
         "metadata": "{}",
         "name": "total_day_supply",
         "type": "\"integer\""
        },
        {
         "metadata": "{}",
         "name": "total_drug_cost",
         "type": "\"double\""
        },
        {
         "metadata": "{}",
         "name": "bene_count_ge65",
         "type": "\"integer\""
        },
        {
         "metadata": "{}",
         "name": "bene_count_ge65_suppress_flag",
         "type": "\"string\""
        },
        {
         "metadata": "{}",
         "name": "total_claim_count_ge65",
         "type": "\"integer\""
        },
        {
         "metadata": "{}",
         "name": "ge65_suppress_flag",
         "type": "\"string\""
        },
        {
         "metadata": "{}",
         "name": "total_30_day_fill_count_ge65",
         "type": "\"double\""
        },
        {
         "metadata": "{}",
         "name": "total_day_supply_ge65",
         "type": "\"integer\""
        },
        {
         "metadata": "{}",
         "name": "total_drug_cost_ge65",
         "type": "\"double\""
        },
        {
         "metadata": "{}",
         "name": "years_of_exp",
         "type": "\"string\""
        }
       ],
       "type": "table"
      }
     },
     "output_type": "display_data"
    }
   ],
   "source": [
    "usa_presc_df = spark.read \\\n",
    "    .csv('/mnt/synapselearningadls/raw/pharmacy_usa/USA_Presc_Medicare_Data_12021.csv', inferSchema=True, header=True)\n",
    "\n",
    "display(usa_presc_df.limit(5))"
   ]
  },
  {
   "cell_type": "markdown",
   "metadata": {
    "application/vnd.databricks.v1+cell": {
     "cellMetadata": {
      "byteLimit": 2048000,
      "rowLimit": 10000
     },
     "inputWidgets": {},
     "nuid": "70fd90f8-be74-4f24-a875-81308f412f7d",
     "showTitle": false,
     "title": ""
    }
   },
   "source": [
    "#### 2. Select required columns and clean it"
   ]
  },
  {
   "cell_type": "code",
   "execution_count": 0,
   "metadata": {
    "application/vnd.databricks.v1+cell": {
     "cellMetadata": {
      "byteLimit": 2048000,
      "rowLimit": 10000
     },
     "inputWidgets": {},
     "nuid": "397a2edc-7663-47f9-a835-51fbe6cd949d",
     "showTitle": false,
     "title": ""
    }
   },
   "outputs": [],
   "source": [
    "from pyspark.sql.functions import col, lit, regexp_replace, cast, concat, coalesce\n",
    "\n",
    "usa_presc_trans_df = usa_presc_df.withColumn('country', lit('USA')) \\\n",
    "                                    .select(col('npi').alias('presc_id'), \n",
    "                                            concat(coalesce(col('nppes_provider_first_name'), lit('')),\n",
    "                                                    lit(' '), coalesce(col('nppes_provider_last_org_name'), \n",
    "                                                                       lit(''))).alias('presc_name'),\n",
    "                                            col('nppes_provider_city').alias('presc_city'),\n",
    "                                            col('nppes_provider_state').alias('presc_state'), 'country',\n",
    "                                            col('specialty_description').alias('presc_spclt'), 'drug_name',\n",
    "                                            'total_claim_count', 'total_day_supply','total_drug_cost', \n",
    "                                            regexp_replace(col('years_of_exp'), '=', '').cast('int').alias('years_of_exp'))\n",
    "                                    \n",
    "# Here i am coalesce names column because these columns contains null values. So, if use concat that contains null values, then the result will also be null. So, coalesce will replace null values with mention string."
   ]
  },
  {
   "cell_type": "markdown",
   "metadata": {
    "application/vnd.databricks.v1+cell": {
     "cellMetadata": {
      "byteLimit": 2048000,
      "rowLimit": 10000
     },
     "inputWidgets": {},
     "nuid": "5c040b83-8ab2-4cb7-bc16-c53a92eae000",
     "showTitle": false,
     "title": ""
    }
   },
   "source": [
    "##### Because of below fields, I use `coalesce` in above command"
   ]
  },
  {
   "cell_type": "code",
   "execution_count": 0,
   "metadata": {
    "application/vnd.databricks.v1+cell": {
     "cellMetadata": {
      "byteLimit": 2048000,
      "rowLimit": 10000
     },
     "inputWidgets": {},
     "nuid": "4979340c-5ef8-4cc7-982d-1b0d40b16a92",
     "showTitle": false,
     "title": ""
    }
   },
   "outputs": [
    {
     "output_type": "display_data",
     "data": {
      "text/html": [
       "<style scoped>\n",
       "  .table-result-container {\n",
       "    max-height: 300px;\n",
       "    overflow: auto;\n",
       "  }\n",
       "  table, th, td {\n",
       "    border: 1px solid black;\n",
       "    border-collapse: collapse;\n",
       "  }\n",
       "  th, td {\n",
       "    padding: 5px;\n",
       "  }\n",
       "  th {\n",
       "    text-align: left;\n",
       "  }\n",
       "</style><div class='table-result-container'><table class='table-result'><thead style='background-color: white'><tr><th>npi</th><th>nppes_provider_last_org_name</th><th>nppes_provider_first_name</th><th>nppes_provider_city</th><th>nppes_provider_state</th><th>specialty_description</th><th>description_flag</th><th>drug_name</th><th>generic_name</th><th>bene_count</th><th>total_claim_count</th><th>total_30_day_fill_count</th><th>total_day_supply</th><th>total_drug_cost</th><th>bene_count_ge65</th><th>bene_count_ge65_suppress_flag</th><th>total_claim_count_ge65</th><th>ge65_suppress_flag</th><th>total_30_day_fill_count_ge65</th><th>total_day_supply_ge65</th><th>total_drug_cost_ge65</th><th>years_of_exp</th></tr></thead><tbody><tr><td>-1682890840</td><td>MINUTECLINIC DIAGNOSTIC OF TEXAS LLC</td><td>null</td><td>AUSTIN</td><td>TX</td><td>Nurse Practitioner</td><td>S</td><td>ADACEL TDAP</td><td>DIPH,PERTUSS(ACELL),TET VAC/PF</td><td>11</td><td>11</td><td>11.0</td><td>330</td><td>724.0</td><td>null</td><td>*</td><td>null</td><td>*</td><td>null</td><td>null</td><td>null</td><td>= 31.0</td></tr><tr><td>2076780856</td><td>MINUTECLINIC DIAGNOSTIC OF FLORIDA LLC</td><td>null</td><td>ORLANDO</td><td>FL</td><td>Nurse Practitioner</td><td>S</td><td>ADACEL TDAP</td><td>DIPH,PERTUSS(ACELL),TET VAC/PF</td><td>69</td><td>69</td><td>69.0</td><td>2031</td><td>4470.14</td><td>null</td><td>#</td><td>null</td><td>#</td><td>null</td><td>null</td><td>null</td><td>= 55.0</td></tr><tr><td>-17537445</td><td>null</td><td>null</td><td>null</td><td>null</td><td>null</td><td>null</td><td>null</td><td>null</td><td>null</td><td>null</td><td>null</td><td>null</td><td>null</td><td>null</td><td>null</td><td>null</td><td>null</td><td>null</td><td>null</td><td>null</td><td>null</td></tr></tbody></table></div>"
      ]
     },
     "metadata": {
      "application/vnd.databricks.v1+output": {
       "addedWidgets": {},
       "aggData": [],
       "aggError": "",
       "aggOverflow": false,
       "aggSchema": [],
       "aggSeriesLimitReached": false,
       "aggType": "",
       "arguments": {},
       "columnCustomDisplayInfos": {},
       "data": [
        [
         -1682890840,
         "MINUTECLINIC DIAGNOSTIC OF TEXAS LLC",
         null,
         "AUSTIN",
         "TX",
         "Nurse Practitioner",
         "S",
         "ADACEL TDAP",
         "DIPH,PERTUSS(ACELL),TET VAC/PF",
         11,
         11,
         11.0,
         330,
         724.0,
         null,
         "*",
         null,
         "*",
         null,
         null,
         null,
         "= 31.0"
        ],
        [
         2076780856,
         "MINUTECLINIC DIAGNOSTIC OF FLORIDA LLC",
         null,
         "ORLANDO",
         "FL",
         "Nurse Practitioner",
         "S",
         "ADACEL TDAP",
         "DIPH,PERTUSS(ACELL),TET VAC/PF",
         69,
         69,
         69.0,
         2031,
         4470.14,
         null,
         "#",
         null,
         "#",
         null,
         null,
         null,
         "= 55.0"
        ],
        [
         -17537445,
         null,
         null,
         null,
         null,
         null,
         null,
         null,
         null,
         null,
         null,
         null,
         null,
         null,
         null,
         null,
         null,
         null,
         null,
         null,
         null,
         null
        ]
       ],
       "datasetInfos": [],
       "dbfsResultPath": null,
       "isJsonSchema": true,
       "metadata": {},
       "overflow": false,
       "plotOptions": {
        "customPlotOptions": {},
        "displayType": "table",
        "pivotAggregation": null,
        "pivotColumns": null,
        "xColumns": null,
        "yColumns": null
       },
       "removedWidgets": [],
       "schema": [
        {
         "metadata": "{}",
         "name": "npi",
         "type": "\"integer\""
        },
        {
         "metadata": "{}",
         "name": "nppes_provider_last_org_name",
         "type": "\"string\""
        },
        {
         "metadata": "{}",
         "name": "nppes_provider_first_name",
         "type": "\"string\""
        },
        {
         "metadata": "{}",
         "name": "nppes_provider_city",
         "type": "\"string\""
        },
        {
         "metadata": "{}",
         "name": "nppes_provider_state",
         "type": "\"string\""
        },
        {
         "metadata": "{}",
         "name": "specialty_description",
         "type": "\"string\""
        },
        {
         "metadata": "{}",
         "name": "description_flag",
         "type": "\"string\""
        },
        {
         "metadata": "{}",
         "name": "drug_name",
         "type": "\"string\""
        },
        {
         "metadata": "{}",
         "name": "generic_name",
         "type": "\"string\""
        },
        {
         "metadata": "{}",
         "name": "bene_count",
         "type": "\"integer\""
        },
        {
         "metadata": "{}",
         "name": "total_claim_count",
         "type": "\"integer\""
        },
        {
         "metadata": "{}",
         "name": "total_30_day_fill_count",
         "type": "\"double\""
        },
        {
         "metadata": "{}",
         "name": "total_day_supply",
         "type": "\"integer\""
        },
        {
         "metadata": "{}",
         "name": "total_drug_cost",
         "type": "\"double\""
        },
        {
         "metadata": "{}",
         "name": "bene_count_ge65",
         "type": "\"integer\""
        },
        {
         "metadata": "{}",
         "name": "bene_count_ge65_suppress_flag",
         "type": "\"string\""
        },
        {
         "metadata": "{}",
         "name": "total_claim_count_ge65",
         "type": "\"integer\""
        },
        {
         "metadata": "{}",
         "name": "ge65_suppress_flag",
         "type": "\"string\""
        },
        {
         "metadata": "{}",
         "name": "total_30_day_fill_count_ge65",
         "type": "\"double\""
        },
        {
         "metadata": "{}",
         "name": "total_day_supply_ge65",
         "type": "\"integer\""
        },
        {
         "metadata": "{}",
         "name": "total_drug_cost_ge65",
         "type": "\"double\""
        },
        {
         "metadata": "{}",
         "name": "years_of_exp",
         "type": "\"string\""
        }
       ],
       "type": "table"
      }
     },
     "output_type": "display_data"
    }
   ],
   "source": [
    "display(usa_presc_df.filter(col('nppes_provider_first_name').isNull()))"
   ]
  },
  {
   "cell_type": "markdown",
   "metadata": {
    "application/vnd.databricks.v1+cell": {
     "cellMetadata": {
      "byteLimit": 2048000,
      "rowLimit": 10000
     },
     "inputWidgets": {},
     "nuid": "fc368953-5089-4ea9-b35b-2a3399d09409",
     "showTitle": false,
     "title": ""
    }
   },
   "source": [
    "##### After using `coalesce`"
   ]
  },
  {
   "cell_type": "code",
   "execution_count": 0,
   "metadata": {
    "application/vnd.databricks.v1+cell": {
     "cellMetadata": {
      "byteLimit": 2048000,
      "rowLimit": 10000
     },
     "inputWidgets": {},
     "nuid": "50a707dc-27cd-4f30-82d6-08eae6ae3412",
     "showTitle": false,
     "title": ""
    }
   },
   "outputs": [
    {
     "output_type": "display_data",
     "data": {
      "text/html": [
       "<style scoped>\n",
       "  .table-result-container {\n",
       "    max-height: 300px;\n",
       "    overflow: auto;\n",
       "  }\n",
       "  table, th, td {\n",
       "    border: 1px solid black;\n",
       "    border-collapse: collapse;\n",
       "  }\n",
       "  th, td {\n",
       "    padding: 5px;\n",
       "  }\n",
       "  th {\n",
       "    text-align: left;\n",
       "  }\n",
       "</style><div class='table-result-container'><table class='table-result'><thead style='background-color: white'><tr><th>presc_id</th><th>presc_name</th><th>presc_city</th><th>presc_state</th><th>country</th><th>presc_spclt</th><th>drug_name</th><th>total_claim_count</th><th>total_day_supply</th><th>total_drug_cost</th><th>years_of_exp</th></tr></thead><tbody></tbody></table></div>"
      ]
     },
     "metadata": {
      "application/vnd.databricks.v1+output": {
       "addedWidgets": {},
       "aggData": [],
       "aggError": "",
       "aggOverflow": false,
       "aggSchema": [],
       "aggSeriesLimitReached": false,
       "aggType": "",
       "arguments": {},
       "columnCustomDisplayInfos": {},
       "data": [],
       "datasetInfos": [],
       "dbfsResultPath": null,
       "isJsonSchema": true,
       "metadata": {},
       "overflow": false,
       "plotOptions": {
        "customPlotOptions": {},
        "displayType": "table",
        "pivotAggregation": null,
        "pivotColumns": null,
        "xColumns": null,
        "yColumns": null
       },
       "removedWidgets": [],
       "schema": [
        {
         "metadata": "{}",
         "name": "presc_id",
         "type": "\"integer\""
        },
        {
         "metadata": "{}",
         "name": "presc_name",
         "type": "\"string\""
        },
        {
         "metadata": "{}",
         "name": "presc_city",
         "type": "\"string\""
        },
        {
         "metadata": "{}",
         "name": "presc_state",
         "type": "\"string\""
        },
        {
         "metadata": "{}",
         "name": "country",
         "type": "\"string\""
        },
        {
         "metadata": "{}",
         "name": "presc_spclt",
         "type": "\"string\""
        },
        {
         "metadata": "{}",
         "name": "drug_name",
         "type": "\"string\""
        },
        {
         "metadata": "{}",
         "name": "total_claim_count",
         "type": "\"integer\""
        },
        {
         "metadata": "{}",
         "name": "total_day_supply",
         "type": "\"integer\""
        },
        {
         "metadata": "{}",
         "name": "total_drug_cost",
         "type": "\"double\""
        },
        {
         "metadata": "{}",
         "name": "years_of_exp",
         "type": "\"integer\""
        }
       ],
       "type": "table"
      }
     },
     "output_type": "display_data"
    }
   ],
   "source": [
    "display(usa_presc_trans_df.filter(col('presc_name').isNull()))"
   ]
  },
  {
   "cell_type": "markdown",
   "metadata": {
    "application/vnd.databricks.v1+cell": {
     "cellMetadata": {
      "byteLimit": 2048000,
      "rowLimit": 10000
     },
     "inputWidgets": {},
     "nuid": "8b7078ac-a32b-43e1-b7e8-3a1c6142e635",
     "showTitle": false,
     "title": ""
    }
   },
   "source": [
    "#### Check null values in all columns"
   ]
  },
  {
   "cell_type": "code",
   "execution_count": 0,
   "metadata": {
    "application/vnd.databricks.v1+cell": {
     "cellMetadata": {
      "byteLimit": 2048000,
      "rowLimit": 10000
     },
     "inputWidgets": {},
     "nuid": "97d5d93b-c7cc-42b9-9992-1da4f1bb625d",
     "showTitle": false,
     "title": ""
    }
   },
   "outputs": [
    {
     "output_type": "display_data",
     "data": {
      "text/html": [
       "<style scoped>\n",
       "  .table-result-container {\n",
       "    max-height: 300px;\n",
       "    overflow: auto;\n",
       "  }\n",
       "  table, th, td {\n",
       "    border: 1px solid black;\n",
       "    border-collapse: collapse;\n",
       "  }\n",
       "  th, td {\n",
       "    padding: 5px;\n",
       "  }\n",
       "  th {\n",
       "    text-align: left;\n",
       "  }\n",
       "</style><div class='table-result-container'><table class='table-result'><thead style='background-color: white'><tr><th>presc_id</th><th>presc_name</th><th>presc_city</th><th>presc_state</th><th>country</th><th>presc_spclt</th><th>drug_name</th><th>total_claim_count</th><th>total_day_supply</th><th>total_drug_cost</th><th>years_of_exp</th></tr></thead><tbody><tr><td>22</td><td>0</td><td>1</td><td>1</td><td>0</td><td>1</td><td>15</td><td>3</td><td>1</td><td>1</td><td>1</td></tr></tbody></table></div>"
      ]
     },
     "metadata": {
      "application/vnd.databricks.v1+output": {
       "addedWidgets": {},
       "aggData": [],
       "aggError": "",
       "aggOverflow": false,
       "aggSchema": [],
       "aggSeriesLimitReached": false,
       "aggType": "",
       "arguments": {},
       "columnCustomDisplayInfos": {},
       "data": [
        [
         22,
         0,
         1,
         1,
         0,
         1,
         15,
         3,
         1,
         1,
         1
        ]
       ],
       "datasetInfos": [],
       "dbfsResultPath": null,
       "isJsonSchema": true,
       "metadata": {},
       "overflow": false,
       "plotOptions": {
        "customPlotOptions": {},
        "displayType": "table",
        "pivotAggregation": null,
        "pivotColumns": null,
        "xColumns": null,
        "yColumns": null
       },
       "removedWidgets": [],
       "schema": [
        {
         "metadata": "{}",
         "name": "presc_id",
         "type": "\"long\""
        },
        {
         "metadata": "{}",
         "name": "presc_name",
         "type": "\"long\""
        },
        {
         "metadata": "{}",
         "name": "presc_city",
         "type": "\"long\""
        },
        {
         "metadata": "{}",
         "name": "presc_state",
         "type": "\"long\""
        },
        {
         "metadata": "{}",
         "name": "country",
         "type": "\"long\""
        },
        {
         "metadata": "{}",
         "name": "presc_spclt",
         "type": "\"long\""
        },
        {
         "metadata": "{}",
         "name": "drug_name",
         "type": "\"long\""
        },
        {
         "metadata": "{}",
         "name": "total_claim_count",
         "type": "\"long\""
        },
        {
         "metadata": "{}",
         "name": "total_day_supply",
         "type": "\"long\""
        },
        {
         "metadata": "{}",
         "name": "total_drug_cost",
         "type": "\"long\""
        },
        {
         "metadata": "{}",
         "name": "years_of_exp",
         "type": "\"long\""
        }
       ],
       "type": "table"
      }
     },
     "output_type": "display_data"
    }
   ],
   "source": [
    "from pyspark.sql.functions import count, when, isnan\n",
    "\n",
    "def check_null(df):\n",
    "    display(df.select([count(when(isnan(c) | col(c).isNull(), c)).alias(c) \n",
    "                                  for c in usa_presc_trans_df.columns]))\n",
    "    \n",
    "check_null(usa_presc_trans_df)\n",
    "\n",
    "#  'isnan' is used to check is NaN in columns."
   ]
  },
  {
   "cell_type": "markdown",
   "metadata": {
    "application/vnd.databricks.v1+cell": {
     "cellMetadata": {
      "byteLimit": 2048000,
      "rowLimit": 10000
     },
     "inputWidgets": {},
     "nuid": "90981f98-7f1c-429b-a55c-19160218f83b",
     "showTitle": false,
     "title": ""
    }
   },
   "source": [
    "#### 3. Drop null values in respective columns"
   ]
  },
  {
   "cell_type": "code",
   "execution_count": 0,
   "metadata": {
    "application/vnd.databricks.v1+cell": {
     "cellMetadata": {
      "byteLimit": 2048000,
      "rowLimit": 10000
     },
     "inputWidgets": {},
     "nuid": "638d0085-cf9e-4e21-8856-b9d7cff204cc",
     "showTitle": false,
     "title": ""
    }
   },
   "outputs": [],
   "source": [
    "from pyspark.sql.functions import mean, cast\n",
    "\n",
    "usa_presc_trans_df = usa_presc_trans_df.na.drop(subset='presc_id')\n",
    "usa_presc_trans_df = usa_presc_trans_df.na.drop(subset='drug_name')\n",
    "\n",
    "# Here I am filling avg value, in place of null values.\n",
    "mean_value = usa_presc_trans_df.select(mean('total_claim_count')).collect()[0][0]\n",
    "usa_presc_trans_df = usa_presc_trans_df.na.fill(mean_value, 'total_claim_count')"
   ]
  },
  {
   "cell_type": "markdown",
   "metadata": {
    "application/vnd.databricks.v1+cell": {
     "cellMetadata": {
      "byteLimit": 2048000,
      "rowLimit": 10000
     },
     "inputWidgets": {},
     "nuid": "25a11e6e-1ce5-43ce-97e7-4a31ed196399",
     "showTitle": false,
     "title": ""
    }
   },
   "source": [
    "##### Again checking null values"
   ]
  },
  {
   "cell_type": "code",
   "execution_count": 0,
   "metadata": {
    "application/vnd.databricks.v1+cell": {
     "cellMetadata": {
      "byteLimit": 2048000,
      "rowLimit": 10000
     },
     "inputWidgets": {},
     "nuid": "7705cac4-b970-49c9-9020-d4a1959fe838",
     "showTitle": false,
     "title": ""
    }
   },
   "outputs": [
    {
     "output_type": "display_data",
     "data": {
      "text/html": [
       "<style scoped>\n",
       "  .table-result-container {\n",
       "    max-height: 300px;\n",
       "    overflow: auto;\n",
       "  }\n",
       "  table, th, td {\n",
       "    border: 1px solid black;\n",
       "    border-collapse: collapse;\n",
       "  }\n",
       "  th, td {\n",
       "    padding: 5px;\n",
       "  }\n",
       "  th {\n",
       "    text-align: left;\n",
       "  }\n",
       "</style><div class='table-result-container'><table class='table-result'><thead style='background-color: white'><tr><th>presc_id</th><th>presc_name</th><th>presc_city</th><th>presc_state</th><th>country</th><th>presc_spclt</th><th>drug_name</th><th>total_claim_count</th><th>total_day_supply</th><th>total_drug_cost</th><th>years_of_exp</th></tr></thead><tbody><tr><td>0</td><td>0</td><td>0</td><td>0</td><td>0</td><td>0</td><td>0</td><td>0</td><td>0</td><td>0</td><td>0</td></tr></tbody></table></div>"
      ]
     },
     "metadata": {
      "application/vnd.databricks.v1+output": {
       "addedWidgets": {},
       "aggData": [],
       "aggError": "",
       "aggOverflow": false,
       "aggSchema": [],
       "aggSeriesLimitReached": false,
       "aggType": "",
       "arguments": {},
       "columnCustomDisplayInfos": {},
       "data": [
        [
         0,
         0,
         0,
         0,
         0,
         0,
         0,
         0,
         0,
         0,
         0
        ]
       ],
       "datasetInfos": [],
       "dbfsResultPath": null,
       "isJsonSchema": true,
       "metadata": {},
       "overflow": false,
       "plotOptions": {
        "customPlotOptions": {},
        "displayType": "table",
        "pivotAggregation": null,
        "pivotColumns": null,
        "xColumns": null,
        "yColumns": null
       },
       "removedWidgets": [],
       "schema": [
        {
         "metadata": "{}",
         "name": "presc_id",
         "type": "\"long\""
        },
        {
         "metadata": "{}",
         "name": "presc_name",
         "type": "\"long\""
        },
        {
         "metadata": "{}",
         "name": "presc_city",
         "type": "\"long\""
        },
        {
         "metadata": "{}",
         "name": "presc_state",
         "type": "\"long\""
        },
        {
         "metadata": "{}",
         "name": "country",
         "type": "\"long\""
        },
        {
         "metadata": "{}",
         "name": "presc_spclt",
         "type": "\"long\""
        },
        {
         "metadata": "{}",
         "name": "drug_name",
         "type": "\"long\""
        },
        {
         "metadata": "{}",
         "name": "total_claim_count",
         "type": "\"long\""
        },
        {
         "metadata": "{}",
         "name": "total_day_supply",
         "type": "\"long\""
        },
        {
         "metadata": "{}",
         "name": "total_drug_cost",
         "type": "\"long\""
        },
        {
         "metadata": "{}",
         "name": "years_of_exp",
         "type": "\"long\""
        }
       ],
       "type": "table"
      }
     },
     "output_type": "display_data"
    }
   ],
   "source": [
    "check_null(usa_presc_trans_df)"
   ]
  },
  {
   "cell_type": "code",
   "execution_count": 0,
   "metadata": {
    "application/vnd.databricks.v1+cell": {
     "cellMetadata": {
      "byteLimit": 2048000,
      "rowLimit": 10000
     },
     "inputWidgets": {},
     "nuid": "e77a9f40-45b6-432a-945c-0db27ed08106",
     "showTitle": false,
     "title": ""
    }
   },
   "outputs": [
    {
     "output_type": "display_data",
     "data": {
      "text/html": [
       "<style scoped>\n",
       "  .table-result-container {\n",
       "    max-height: 300px;\n",
       "    overflow: auto;\n",
       "  }\n",
       "  table, th, td {\n",
       "    border: 1px solid black;\n",
       "    border-collapse: collapse;\n",
       "  }\n",
       "  th, td {\n",
       "    padding: 5px;\n",
       "  }\n",
       "  th {\n",
       "    text-align: left;\n",
       "  }\n",
       "</style><div class='table-result-container'><table class='table-result'><thead style='background-color: white'><tr><th>presc_id</th><th>presc_name</th><th>presc_city</th><th>presc_state</th><th>country</th><th>presc_spclt</th><th>drug_name</th><th>total_claim_count</th><th>total_day_supply</th><th>total_drug_cost</th><th>years_of_exp</th></tr></thead><tbody><tr><td>2006000252</td><td>ARDALAN ENKESHAFI</td><td>CUMBERLAND</td><td>MD</td><td>USA</td><td>Internal Medicine</td><td>ATORVASTATIN CALCIUM</td><td>13</td><td>450</td><td>139.32</td><td>45</td></tr><tr><td>2006000252</td><td>ARDALAN ENKESHAFI</td><td>CUMBERLAND</td><td>MD</td><td>USA</td><td>Internal Medicine</td><td>CIPROFLOXACIN HCL</td><td>11</td><td>96</td><td>80.99</td><td>43</td></tr><tr><td>2006000252</td><td>ARDALAN ENKESHAFI</td><td>CUMBERLAND</td><td>MD</td><td>USA</td><td>Internal Medicine</td><td>DOXYCYCLINE HYCLATE</td><td>20</td><td>199</td><td>586.12</td><td>33</td></tr><tr><td>2006000252</td><td>ARDALAN ENKESHAFI</td><td>CUMBERLAND</td><td>MD</td><td>USA</td><td>Internal Medicine</td><td>ELIQUIS</td><td>17</td><td>510</td><td>6065.02</td><td>44</td></tr><tr><td>2006000252</td><td>ARDALAN ENKESHAFI</td><td>CUMBERLAND</td><td>MD</td><td>USA</td><td>Internal Medicine</td><td>FUROSEMIDE</td><td>17</td><td>405</td><td>45.76</td><td>55</td></tr></tbody></table></div>"
      ]
     },
     "metadata": {
      "application/vnd.databricks.v1+output": {
       "addedWidgets": {},
       "aggData": [],
       "aggError": "",
       "aggOverflow": false,
       "aggSchema": [],
       "aggSeriesLimitReached": false,
       "aggType": "",
       "arguments": {},
       "columnCustomDisplayInfos": {},
       "data": [
        [
         2006000252,
         "ARDALAN ENKESHAFI",
         "CUMBERLAND",
         "MD",
         "USA",
         "Internal Medicine",
         "ATORVASTATIN CALCIUM",
         13,
         450,
         139.32,
         45
        ],
        [
         2006000252,
         "ARDALAN ENKESHAFI",
         "CUMBERLAND",
         "MD",
         "USA",
         "Internal Medicine",
         "CIPROFLOXACIN HCL",
         11,
         96,
         80.99,
         43
        ],
        [
         2006000252,
         "ARDALAN ENKESHAFI",
         "CUMBERLAND",
         "MD",
         "USA",
         "Internal Medicine",
         "DOXYCYCLINE HYCLATE",
         20,
         199,
         586.12,
         33
        ],
        [
         2006000252,
         "ARDALAN ENKESHAFI",
         "CUMBERLAND",
         "MD",
         "USA",
         "Internal Medicine",
         "ELIQUIS",
         17,
         510,
         6065.02,
         44
        ],
        [
         2006000252,
         "ARDALAN ENKESHAFI",
         "CUMBERLAND",
         "MD",
         "USA",
         "Internal Medicine",
         "FUROSEMIDE",
         17,
         405,
         45.76,
         55
        ]
       ],
       "datasetInfos": [],
       "dbfsResultPath": null,
       "isJsonSchema": true,
       "metadata": {},
       "overflow": false,
       "plotOptions": {
        "customPlotOptions": {},
        "displayType": "table",
        "pivotAggregation": null,
        "pivotColumns": null,
        "xColumns": null,
        "yColumns": null
       },
       "removedWidgets": [],
       "schema": [
        {
         "metadata": "{}",
         "name": "presc_id",
         "type": "\"integer\""
        },
        {
         "metadata": "{}",
         "name": "presc_name",
         "type": "\"string\""
        },
        {
         "metadata": "{}",
         "name": "presc_city",
         "type": "\"string\""
        },
        {
         "metadata": "{}",
         "name": "presc_state",
         "type": "\"string\""
        },
        {
         "metadata": "{}",
         "name": "country",
         "type": "\"string\""
        },
        {
         "metadata": "{}",
         "name": "presc_spclt",
         "type": "\"string\""
        },
        {
         "metadata": "{}",
         "name": "drug_name",
         "type": "\"string\""
        },
        {
         "metadata": "{}",
         "name": "total_claim_count",
         "type": "\"integer\""
        },
        {
         "metadata": "{}",
         "name": "total_day_supply",
         "type": "\"integer\""
        },
        {
         "metadata": "{}",
         "name": "total_drug_cost",
         "type": "\"double\""
        },
        {
         "metadata": "{}",
         "name": "years_of_exp",
         "type": "\"integer\""
        }
       ],
       "type": "table"
      }
     },
     "output_type": "display_data"
    }
   ],
   "source": [
    "display(usa_presc_trans_df.limit(5))"
   ]
  },
  {
   "cell_type": "markdown",
   "metadata": {
    "application/vnd.databricks.v1+cell": {
     "cellMetadata": {
      "byteLimit": 2048000,
      "rowLimit": 10000
     },
     "inputWidgets": {},
     "nuid": "fb60c3fd-dff2-415e-a3fb-6b2ba7c193bc",
     "showTitle": false,
     "title": ""
    }
   },
   "source": [
    "#### 4. Write processed data to processed container"
   ]
  },
  {
   "cell_type": "code",
   "execution_count": 0,
   "metadata": {
    "application/vnd.databricks.v1+cell": {
     "cellMetadata": {
      "byteLimit": 2048000,
      "rowLimit": 10000
     },
     "inputWidgets": {},
     "nuid": "c4c0d06b-ea26-460e-a885-1cc17bdcbb60",
     "showTitle": false,
     "title": ""
    }
   },
   "outputs": [],
   "source": [
    "usa_presc_trans_df.write.mode('overwrite').format('delta') \\\n",
    "    .save('/mnt/synapselearningadls/processed/pharmacy_usa/usa_presc')"
   ]
  }
 ],
 "metadata": {
  "application/vnd.databricks.v1+notebook": {
   "dashboards": [],
   "language": "python",
   "notebookMetadata": {
    "pythonIndentUnit": 4
   },
   "notebookName": "1.process_usa_presc_file",
   "widgets": {}
  }
 },
 "nbformat": 4,
 "nbformat_minor": 0
}
