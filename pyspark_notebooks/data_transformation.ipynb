{
 "cells": [
  {
   "cell_type": "markdown",
   "metadata": {
    "application/vnd.databricks.v1+cell": {
     "cellMetadata": {
      "byteLimit": 2048000,
      "rowLimit": 10000
     },
     "inputWidgets": {},
     "nuid": "88b1e807-fc5b-4ed9-b644-2d15c18f75c9",
     "showTitle": false,
     "title": ""
    }
   },
   "source": [
    "#### Read usa_cities_dimension processed file"
   ]
  },
  {
   "cell_type": "code",
   "execution_count": 0,
   "metadata": {
    "application/vnd.databricks.v1+cell": {
     "cellMetadata": {
      "byteLimit": 2048000,
      "rowLimit": 10000
     },
     "inputWidgets": {},
     "nuid": "a1300ea5-76ae-4516-8389-d6c919ef437b",
     "showTitle": false,
     "title": ""
    }
   },
   "outputs": [
    {
     "output_type": "display_data",
     "data": {
      "text/html": [
       "<style scoped>\n",
       "  .table-result-container {\n",
       "    max-height: 300px;\n",
       "    overflow: auto;\n",
       "  }\n",
       "  table, th, td {\n",
       "    border: 1px solid black;\n",
       "    border-collapse: collapse;\n",
       "  }\n",
       "  th, td {\n",
       "    padding: 5px;\n",
       "  }\n",
       "  th {\n",
       "    text-align: left;\n",
       "  }\n",
       "</style><div class='table-result-container'><table class='table-result'><thead style='background-color: white'><tr><th>city</th><th>state_id</th><th>state_name</th><th>county_name</th><th>population</th><th>zips</th></tr></thead><tbody><tr><td>NEW YORK</td><td>NY</td><td>NEW YORK</td><td>NEW YORK</td><td>18713220</td><td>11229 11226 11225 11224 11222 11221 11220 11385 10169 10168 10167 10165 10162 10282 10280 10040 10044 11109 11104 11105 11379 11378 11377 11697 11694 11692 11693 11691 10271 10279 10278 10075 10302 10301 10452 11451 10475 10474 10471 10470 10473 10472 11228 11223 10103 11368 11369 11366 11367 11364 11365 11362 11363 11360 11361 10028 10029 10026 10027 10024 10025 10022 10023 10020 10021 11212 11213 11210 11211 11216 11217 11214 11215 11218 11219 10152 10153 10154 10307 10306 10305 11429 10310 10311 10312 10314 11432 11433 11430 11436 11434 11435 10453 10451 10457 10456 10455 10454 10459 10458 10128 10004 10005 10006 10007 10001 10002 10003 10009 11238 11239 11230 11231 11232 11233 11234 11235 11236 11237 11375 11374 11371 11370 11373 11372 10170 10171 10172 10173 10174 10177 11351 10039 10038 10035 10034 10037 10036 10031 10030 10033 10032 11201 11208 11203 11205 11204 11207 11206 11209 11411 11412 11413 11414 11415 11416 11417 11418 11419 11101 11102 11103 11106 11001 11005 11004 10065 10069 10199 10309 10308 10304 10303 11428 11421 11420 11423 11422 11425 11424 11427 11426 10466 10467 10464 10465 10462 10463 10460 10461 10468 10469 10119 10115 10112 10110 10111 11359 11358 11357 11356 11355 11354 10019 10018 10013 10012 10011 10010 10017 10016 10014 10008 10041 10043 10055 10060 10080 10081 10087 10090 10101 10102 10104 10105 10106 10107 10108 10109 10113 10114 10116 10117 10118 10120 10121 10122 10123 10124 10125 10126 10129 10130 10131 10132 10133 10138 10150 10151 10155 10156 10157 10158 10159 10160 10163 10164 10166 10175 10176 10178 10179 10185 10203 10211 10212 10213 10242 10249 10256 10258 10259 10260 10261 10265 10268 10269 10270 10272 10273 10274 10275 10276 10277 10281 10285 10286 10313 11120 11202 11241 11242 11243 11245 11247 11249 11251 11252 11256 11352 11380 11381 11386 11405 11431 11437 11439 11499 11690 11695</td></tr><tr><td>LOS ANGELES</td><td>CA</td><td>CALIFORNIA</td><td>LOS ANGELES</td><td>12750807</td><td>90291 90293 90292 91316 91311 90037 90031 90008 90004 90005 90006 90007 90001 90002 90003 90710 90089 91344 91345 91340 91342 91343 90035 90034 90036 90033 90032 90039 90247 90248 91436 91371 91605 91604 91607 91601 91602 90402 90068 90069 90062 90063 90061 90066 90067 90064 90065 91326 91324 91325 90013 90012 90011 90010 90017 90016 90015 90014 90019 90090 90095 90094 91042 91040 91411 91352 91356 90041 90042 90043 90044 90045 90046 90047 90048 90049 90018 91423 90210 91303 91304 91306 91307 90079 90071 90077 90059 91608 91606 91331 91330 91335 90026 90027 90024 90025 90023 90020 90021 90028 90029 90272 90732 90731 90230 91406 91405 91403 91402 91401 91367 91364 90038 90057 90058 90744 90501 90502 90009 90030 90050 90051 90053 90054 90055 90060 90070 90072 90074 90075 90076 90078 90080 90081 90082 90083 90084 90086 90087 90088 90093 90099 90134 90189 90213 90294 90295 90296 90733 90734 90748 91041 91043 91305 91308 91309 91313 91327 91328 91329 91333 91334 91337 91346 91353 91357 91365 91392 91393 91394 91395 91396 91404 91407 91408 91409 91410 91412 91413 91416 91426 91470 91482 91495 91496 91499 91603 91609 91610 91611 91612 91614 91615 91616 91617 91618</td></tr><tr><td>CHICAGO</td><td>IL</td><td>ILLINOIS</td><td>COOK</td><td>8604203</td><td>60018 60649 60641 60640 60643 60642 60645 60644 60647 60646 60616 60617 60614 60615 60612 60613 60610 60611 60618 60619 60827 60638 60639 60634 60636 60637 60630 60631 60632 60633 60605 60604 60607 60606 60601 60603 60602 60609 60608 60106 60661 60660 60659 60652 60653 60651 60656 60657 60654 60655 60623 60622 60621 60620 60626 60625 60624 60629 60628 60707 60499 60664 60666 60668 60669 60670 60673 60674 60675 60677 60678 60680 60681 60684 60685 60686 60687 60688 60689 60690 60694 60695 60696 60699</td></tr><tr><td>MIAMI</td><td>FL</td><td>FLORIDA</td><td>MIAMI-DADE</td><td>6445545</td><td>33129 33125 33126 33127 33128 33149 33144 33145 33142 33139 33138 33137 33136 33135 33134 33133 33132 33131 33130 33150 33101 33109 33111 33151 33222 33231 33233 33238 33255 33299</td></tr><tr><td>DALLAS</td><td>TX</td><td>TEXAS</td><td>DALLAS</td><td>5743938</td><td>75287 75098 75233 75254 75251 75252 75253 75032 75238 75232 75230 75231 75236 75237 75234 75235 75088 75087 75243 75246 75244 75249 75248 75051 75166 75210 75211 75212 75214 75215 75216 75217 75218 75219 75390 75182 75229 75228 75220 75223 75225 75224 75227 75226 75241 75240 75247 75270 75043 75207 75206 75205 75204 75203 75202 75201 75209 75208 75019 75221 75222 75242 75250 75260 75262 75263 75264 75266 75267 75277 75283 75284 75285 75301 75303 75312 75313 75315 75320 75336 75339 75342 75354 75355 75356 75357 75358 75359 75360 75367 75370 75371 75372 75373 75374 75376 75378 75379 75380 75382 75389 75392 75393 75394 75395 75397 75398</td></tr></tbody></table></div>"
      ]
     },
     "metadata": {
      "application/vnd.databricks.v1+output": {
       "addedWidgets": {},
       "aggData": [],
       "aggError": "",
       "aggOverflow": false,
       "aggSchema": [],
       "aggSeriesLimitReached": false,
       "aggType": "",
       "arguments": {},
       "columnCustomDisplayInfos": {},
       "data": [
        [
         "NEW YORK",
         "NY",
         "NEW YORK",
         "NEW YORK",
         18713220,
         "11229 11226 11225 11224 11222 11221 11220 11385 10169 10168 10167 10165 10162 10282 10280 10040 10044 11109 11104 11105 11379 11378 11377 11697 11694 11692 11693 11691 10271 10279 10278 10075 10302 10301 10452 11451 10475 10474 10471 10470 10473 10472 11228 11223 10103 11368 11369 11366 11367 11364 11365 11362 11363 11360 11361 10028 10029 10026 10027 10024 10025 10022 10023 10020 10021 11212 11213 11210 11211 11216 11217 11214 11215 11218 11219 10152 10153 10154 10307 10306 10305 11429 10310 10311 10312 10314 11432 11433 11430 11436 11434 11435 10453 10451 10457 10456 10455 10454 10459 10458 10128 10004 10005 10006 10007 10001 10002 10003 10009 11238 11239 11230 11231 11232 11233 11234 11235 11236 11237 11375 11374 11371 11370 11373 11372 10170 10171 10172 10173 10174 10177 11351 10039 10038 10035 10034 10037 10036 10031 10030 10033 10032 11201 11208 11203 11205 11204 11207 11206 11209 11411 11412 11413 11414 11415 11416 11417 11418 11419 11101 11102 11103 11106 11001 11005 11004 10065 10069 10199 10309 10308 10304 10303 11428 11421 11420 11423 11422 11425 11424 11427 11426 10466 10467 10464 10465 10462 10463 10460 10461 10468 10469 10119 10115 10112 10110 10111 11359 11358 11357 11356 11355 11354 10019 10018 10013 10012 10011 10010 10017 10016 10014 10008 10041 10043 10055 10060 10080 10081 10087 10090 10101 10102 10104 10105 10106 10107 10108 10109 10113 10114 10116 10117 10118 10120 10121 10122 10123 10124 10125 10126 10129 10130 10131 10132 10133 10138 10150 10151 10155 10156 10157 10158 10159 10160 10163 10164 10166 10175 10176 10178 10179 10185 10203 10211 10212 10213 10242 10249 10256 10258 10259 10260 10261 10265 10268 10269 10270 10272 10273 10274 10275 10276 10277 10281 10285 10286 10313 11120 11202 11241 11242 11243 11245 11247 11249 11251 11252 11256 11352 11380 11381 11386 11405 11431 11437 11439 11499 11690 11695"
        ],
        [
         "LOS ANGELES",
         "CA",
         "CALIFORNIA",
         "LOS ANGELES",
         12750807,
         "90291 90293 90292 91316 91311 90037 90031 90008 90004 90005 90006 90007 90001 90002 90003 90710 90089 91344 91345 91340 91342 91343 90035 90034 90036 90033 90032 90039 90247 90248 91436 91371 91605 91604 91607 91601 91602 90402 90068 90069 90062 90063 90061 90066 90067 90064 90065 91326 91324 91325 90013 90012 90011 90010 90017 90016 90015 90014 90019 90090 90095 90094 91042 91040 91411 91352 91356 90041 90042 90043 90044 90045 90046 90047 90048 90049 90018 91423 90210 91303 91304 91306 91307 90079 90071 90077 90059 91608 91606 91331 91330 91335 90026 90027 90024 90025 90023 90020 90021 90028 90029 90272 90732 90731 90230 91406 91405 91403 91402 91401 91367 91364 90038 90057 90058 90744 90501 90502 90009 90030 90050 90051 90053 90054 90055 90060 90070 90072 90074 90075 90076 90078 90080 90081 90082 90083 90084 90086 90087 90088 90093 90099 90134 90189 90213 90294 90295 90296 90733 90734 90748 91041 91043 91305 91308 91309 91313 91327 91328 91329 91333 91334 91337 91346 91353 91357 91365 91392 91393 91394 91395 91396 91404 91407 91408 91409 91410 91412 91413 91416 91426 91470 91482 91495 91496 91499 91603 91609 91610 91611 91612 91614 91615 91616 91617 91618"
        ],
        [
         "CHICAGO",
         "IL",
         "ILLINOIS",
         "COOK",
         8604203,
         "60018 60649 60641 60640 60643 60642 60645 60644 60647 60646 60616 60617 60614 60615 60612 60613 60610 60611 60618 60619 60827 60638 60639 60634 60636 60637 60630 60631 60632 60633 60605 60604 60607 60606 60601 60603 60602 60609 60608 60106 60661 60660 60659 60652 60653 60651 60656 60657 60654 60655 60623 60622 60621 60620 60626 60625 60624 60629 60628 60707 60499 60664 60666 60668 60669 60670 60673 60674 60675 60677 60678 60680 60681 60684 60685 60686 60687 60688 60689 60690 60694 60695 60696 60699"
        ],
        [
         "MIAMI",
         "FL",
         "FLORIDA",
         "MIAMI-DADE",
         6445545,
         "33129 33125 33126 33127 33128 33149 33144 33145 33142 33139 33138 33137 33136 33135 33134 33133 33132 33131 33130 33150 33101 33109 33111 33151 33222 33231 33233 33238 33255 33299"
        ],
        [
         "DALLAS",
         "TX",
         "TEXAS",
         "DALLAS",
         5743938,
         "75287 75098 75233 75254 75251 75252 75253 75032 75238 75232 75230 75231 75236 75237 75234 75235 75088 75087 75243 75246 75244 75249 75248 75051 75166 75210 75211 75212 75214 75215 75216 75217 75218 75219 75390 75182 75229 75228 75220 75223 75225 75224 75227 75226 75241 75240 75247 75270 75043 75207 75206 75205 75204 75203 75202 75201 75209 75208 75019 75221 75222 75242 75250 75260 75262 75263 75264 75266 75267 75277 75283 75284 75285 75301 75303 75312 75313 75315 75320 75336 75339 75342 75354 75355 75356 75357 75358 75359 75360 75367 75370 75371 75372 75373 75374 75376 75378 75379 75380 75382 75389 75392 75393 75394 75395 75397 75398"
        ]
       ],
       "datasetInfos": [],
       "dbfsResultPath": null,
       "isJsonSchema": true,
       "metadata": {},
       "overflow": false,
       "plotOptions": {
        "customPlotOptions": {},
        "displayType": "table",
        "pivotAggregation": null,
        "pivotColumns": null,
        "xColumns": null,
        "yColumns": null
       },
       "removedWidgets": [],
       "schema": [
        {
         "metadata": "{}",
         "name": "city",
         "type": "\"string\""
        },
        {
         "metadata": "{}",
         "name": "state_id",
         "type": "\"string\""
        },
        {
         "metadata": "{}",
         "name": "state_name",
         "type": "\"string\""
        },
        {
         "metadata": "{}",
         "name": "county_name",
         "type": "\"string\""
        },
        {
         "metadata": "{}",
         "name": "population",
         "type": "\"integer\""
        },
        {
         "metadata": "{}",
         "name": "zips",
         "type": "\"string\""
        }
       ],
       "type": "table"
      }
     },
     "output_type": "display_data"
    }
   ],
   "source": [
    "usa_cities_dimension_df = spark.read.format('delta').load('/mnt/synapselearningadls/processed/pharmacy_usa/us_cities_dimension')\n",
    "\n",
    "display(usa_cities_dimension_df.limit(5))"
   ]
  },
  {
   "cell_type": "markdown",
   "metadata": {
    "application/vnd.databricks.v1+cell": {
     "cellMetadata": {
      "byteLimit": 2048000,
      "rowLimit": 10000
     },
     "inputWidgets": {},
     "nuid": "be57e354-c635-4d13-9cdc-47bc7b026674",
     "showTitle": false,
     "title": ""
    }
   },
   "source": [
    "#### Read usa_presc processed file"
   ]
  },
  {
   "cell_type": "code",
   "execution_count": 0,
   "metadata": {
    "application/vnd.databricks.v1+cell": {
     "cellMetadata": {
      "byteLimit": 2048000,
      "rowLimit": 10000
     },
     "inputWidgets": {},
     "nuid": "8f058893-b73f-4c6e-87ce-0127ce312ff7",
     "showTitle": false,
     "title": ""
    }
   },
   "outputs": [
    {
     "output_type": "display_data",
     "data": {
      "text/html": [
       "<style scoped>\n",
       "  .table-result-container {\n",
       "    max-height: 300px;\n",
       "    overflow: auto;\n",
       "  }\n",
       "  table, th, td {\n",
       "    border: 1px solid black;\n",
       "    border-collapse: collapse;\n",
       "  }\n",
       "  th, td {\n",
       "    padding: 5px;\n",
       "  }\n",
       "  th {\n",
       "    text-align: left;\n",
       "  }\n",
       "</style><div class='table-result-container'><table class='table-result'><thead style='background-color: white'><tr><th>presc_id</th><th>presc_name</th><th>presc_city</th><th>presc_state</th><th>country</th><th>presc_spclt</th><th>drug_name</th><th>total_claim_count</th><th>total_day_supply</th><th>total_drug_cost</th><th>years_of_exp</th></tr></thead><tbody><tr><td>2006000252</td><td>ARDALAN ENKESHAFI</td><td>CUMBERLAND</td><td>MD</td><td>USA</td><td>Internal Medicine</td><td>ATORVASTATIN CALCIUM</td><td>13</td><td>450</td><td>139.32</td><td>45</td></tr><tr><td>2006000252</td><td>ARDALAN ENKESHAFI</td><td>CUMBERLAND</td><td>MD</td><td>USA</td><td>Internal Medicine</td><td>CIPROFLOXACIN HCL</td><td>11</td><td>96</td><td>80.99</td><td>43</td></tr><tr><td>2006000252</td><td>ARDALAN ENKESHAFI</td><td>CUMBERLAND</td><td>MD</td><td>USA</td><td>Internal Medicine</td><td>DOXYCYCLINE HYCLATE</td><td>20</td><td>199</td><td>586.12</td><td>33</td></tr><tr><td>2006000252</td><td>ARDALAN ENKESHAFI</td><td>CUMBERLAND</td><td>MD</td><td>USA</td><td>Internal Medicine</td><td>ELIQUIS</td><td>17</td><td>510</td><td>6065.02</td><td>44</td></tr><tr><td>2006000252</td><td>ARDALAN ENKESHAFI</td><td>CUMBERLAND</td><td>MD</td><td>USA</td><td>Internal Medicine</td><td>FUROSEMIDE</td><td>17</td><td>405</td><td>45.76</td><td>55</td></tr></tbody></table></div>"
      ]
     },
     "metadata": {
      "application/vnd.databricks.v1+output": {
       "addedWidgets": {},
       "aggData": [],
       "aggError": "",
       "aggOverflow": false,
       "aggSchema": [],
       "aggSeriesLimitReached": false,
       "aggType": "",
       "arguments": {},
       "columnCustomDisplayInfos": {},
       "data": [
        [
         2006000252,
         "ARDALAN ENKESHAFI",
         "CUMBERLAND",
         "MD",
         "USA",
         "Internal Medicine",
         "ATORVASTATIN CALCIUM",
         13,
         450,
         139.32,
         45
        ],
        [
         2006000252,
         "ARDALAN ENKESHAFI",
         "CUMBERLAND",
         "MD",
         "USA",
         "Internal Medicine",
         "CIPROFLOXACIN HCL",
         11,
         96,
         80.99,
         43
        ],
        [
         2006000252,
         "ARDALAN ENKESHAFI",
         "CUMBERLAND",
         "MD",
         "USA",
         "Internal Medicine",
         "DOXYCYCLINE HYCLATE",
         20,
         199,
         586.12,
         33
        ],
        [
         2006000252,
         "ARDALAN ENKESHAFI",
         "CUMBERLAND",
         "MD",
         "USA",
         "Internal Medicine",
         "ELIQUIS",
         17,
         510,
         6065.02,
         44
        ],
        [
         2006000252,
         "ARDALAN ENKESHAFI",
         "CUMBERLAND",
         "MD",
         "USA",
         "Internal Medicine",
         "FUROSEMIDE",
         17,
         405,
         45.76,
         55
        ]
       ],
       "datasetInfos": [],
       "dbfsResultPath": null,
       "isJsonSchema": true,
       "metadata": {},
       "overflow": false,
       "plotOptions": {
        "customPlotOptions": {},
        "displayType": "table",
        "pivotAggregation": null,
        "pivotColumns": null,
        "xColumns": null,
        "yColumns": null
       },
       "removedWidgets": [],
       "schema": [
        {
         "metadata": "{}",
         "name": "presc_id",
         "type": "\"integer\""
        },
        {
         "metadata": "{}",
         "name": "presc_name",
         "type": "\"string\""
        },
        {
         "metadata": "{}",
         "name": "presc_city",
         "type": "\"string\""
        },
        {
         "metadata": "{}",
         "name": "presc_state",
         "type": "\"string\""
        },
        {
         "metadata": "{}",
         "name": "country",
         "type": "\"string\""
        },
        {
         "metadata": "{}",
         "name": "presc_spclt",
         "type": "\"string\""
        },
        {
         "metadata": "{}",
         "name": "drug_name",
         "type": "\"string\""
        },
        {
         "metadata": "{}",
         "name": "total_claim_count",
         "type": "\"integer\""
        },
        {
         "metadata": "{}",
         "name": "total_day_supply",
         "type": "\"integer\""
        },
        {
         "metadata": "{}",
         "name": "total_drug_cost",
         "type": "\"double\""
        },
        {
         "metadata": "{}",
         "name": "years_of_exp",
         "type": "\"integer\""
        }
       ],
       "type": "table"
      }
     },
     "output_type": "display_data"
    }
   ],
   "source": [
    "usa_presc_df = spark.read.format('delta').load('/mnt/synapselearningadls/processed/pharmacy_usa/usa_presc')\n",
    "\n",
    "display(usa_presc_df.limit(5))"
   ]
  },
  {
   "cell_type": "markdown",
   "metadata": {
    "application/vnd.databricks.v1+cell": {
     "cellMetadata": {
      "byteLimit": 2048000,
      "rowLimit": 10000
     },
     "inputWidgets": {},
     "nuid": "c38ed183-88ee-412a-b6dd-0093fdc8ba68",
     "showTitle": false,
     "title": ""
    }
   },
   "source": [
    "#### Calculate No. of zips"
   ]
  },
  {
   "cell_type": "code",
   "execution_count": 0,
   "metadata": {
    "application/vnd.databricks.v1+cell": {
     "cellMetadata": {
      "byteLimit": 2048000,
      "rowLimit": 10000
     },
     "inputWidgets": {},
     "nuid": "2002c8f0-8a80-4722-b066-26f3f2a317eb",
     "showTitle": false,
     "title": ""
    }
   },
   "outputs": [
    {
     "output_type": "display_data",
     "data": {
      "text/html": [
       "<style scoped>\n",
       "  .table-result-container {\n",
       "    max-height: 300px;\n",
       "    overflow: auto;\n",
       "  }\n",
       "  table, th, td {\n",
       "    border: 1px solid black;\n",
       "    border-collapse: collapse;\n",
       "  }\n",
       "  th, td {\n",
       "    padding: 5px;\n",
       "  }\n",
       "  th {\n",
       "    text-align: left;\n",
       "  }\n",
       "</style><div class='table-result-container'><table class='table-result'><thead style='background-color: white'><tr><th>city</th><th>state_id</th><th>state_name</th><th>county_name</th><th>population</th><th>zips</th><th>zip_counts</th></tr></thead><tbody><tr><td>NEW YORK</td><td>NY</td><td>NEW YORK</td><td>NEW YORK</td><td>18713220</td><td>11229 11226 11225 11224 11222 11221 11220 11385 10169 10168 10167 10165 10162 10282 10280 10040 10044 11109 11104 11105 11379 11378 11377 11697 11694 11692 11693 11691 10271 10279 10278 10075 10302 10301 10452 11451 10475 10474 10471 10470 10473 10472 11228 11223 10103 11368 11369 11366 11367 11364 11365 11362 11363 11360 11361 10028 10029 10026 10027 10024 10025 10022 10023 10020 10021 11212 11213 11210 11211 11216 11217 11214 11215 11218 11219 10152 10153 10154 10307 10306 10305 11429 10310 10311 10312 10314 11432 11433 11430 11436 11434 11435 10453 10451 10457 10456 10455 10454 10459 10458 10128 10004 10005 10006 10007 10001 10002 10003 10009 11238 11239 11230 11231 11232 11233 11234 11235 11236 11237 11375 11374 11371 11370 11373 11372 10170 10171 10172 10173 10174 10177 11351 10039 10038 10035 10034 10037 10036 10031 10030 10033 10032 11201 11208 11203 11205 11204 11207 11206 11209 11411 11412 11413 11414 11415 11416 11417 11418 11419 11101 11102 11103 11106 11001 11005 11004 10065 10069 10199 10309 10308 10304 10303 11428 11421 11420 11423 11422 11425 11424 11427 11426 10466 10467 10464 10465 10462 10463 10460 10461 10468 10469 10119 10115 10112 10110 10111 11359 11358 11357 11356 11355 11354 10019 10018 10013 10012 10011 10010 10017 10016 10014 10008 10041 10043 10055 10060 10080 10081 10087 10090 10101 10102 10104 10105 10106 10107 10108 10109 10113 10114 10116 10117 10118 10120 10121 10122 10123 10124 10125 10126 10129 10130 10131 10132 10133 10138 10150 10151 10155 10156 10157 10158 10159 10160 10163 10164 10166 10175 10176 10178 10179 10185 10203 10211 10212 10213 10242 10249 10256 10258 10259 10260 10261 10265 10268 10269 10270 10272 10273 10274 10275 10276 10277 10281 10285 10286 10313 11120 11202 11241 11242 11243 11245 11247 11249 11251 11252 11256 11352 11380 11381 11386 11405 11431 11437 11439 11499 11690 11695</td><td>310</td></tr><tr><td>LOS ANGELES</td><td>CA</td><td>CALIFORNIA</td><td>LOS ANGELES</td><td>12750807</td><td>90291 90293 90292 91316 91311 90037 90031 90008 90004 90005 90006 90007 90001 90002 90003 90710 90089 91344 91345 91340 91342 91343 90035 90034 90036 90033 90032 90039 90247 90248 91436 91371 91605 91604 91607 91601 91602 90402 90068 90069 90062 90063 90061 90066 90067 90064 90065 91326 91324 91325 90013 90012 90011 90010 90017 90016 90015 90014 90019 90090 90095 90094 91042 91040 91411 91352 91356 90041 90042 90043 90044 90045 90046 90047 90048 90049 90018 91423 90210 91303 91304 91306 91307 90079 90071 90077 90059 91608 91606 91331 91330 91335 90026 90027 90024 90025 90023 90020 90021 90028 90029 90272 90732 90731 90230 91406 91405 91403 91402 91401 91367 91364 90038 90057 90058 90744 90501 90502 90009 90030 90050 90051 90053 90054 90055 90060 90070 90072 90074 90075 90076 90078 90080 90081 90082 90083 90084 90086 90087 90088 90093 90099 90134 90189 90213 90294 90295 90296 90733 90734 90748 91041 91043 91305 91308 91309 91313 91327 91328 91329 91333 91334 91337 91346 91353 91357 91365 91392 91393 91394 91395 91396 91404 91407 91408 91409 91410 91412 91413 91416 91426 91470 91482 91495 91496 91499 91603 91609 91610 91611 91612 91614 91615 91616 91617 91618</td><td>196</td></tr><tr><td>CHICAGO</td><td>IL</td><td>ILLINOIS</td><td>COOK</td><td>8604203</td><td>60018 60649 60641 60640 60643 60642 60645 60644 60647 60646 60616 60617 60614 60615 60612 60613 60610 60611 60618 60619 60827 60638 60639 60634 60636 60637 60630 60631 60632 60633 60605 60604 60607 60606 60601 60603 60602 60609 60608 60106 60661 60660 60659 60652 60653 60651 60656 60657 60654 60655 60623 60622 60621 60620 60626 60625 60624 60629 60628 60707 60499 60664 60666 60668 60669 60670 60673 60674 60675 60677 60678 60680 60681 60684 60685 60686 60687 60688 60689 60690 60694 60695 60696 60699</td><td>84</td></tr><tr><td>MIAMI</td><td>FL</td><td>FLORIDA</td><td>MIAMI-DADE</td><td>6445545</td><td>33129 33125 33126 33127 33128 33149 33144 33145 33142 33139 33138 33137 33136 33135 33134 33133 33132 33131 33130 33150 33101 33109 33111 33151 33222 33231 33233 33238 33255 33299</td><td>30</td></tr><tr><td>DALLAS</td><td>TX</td><td>TEXAS</td><td>DALLAS</td><td>5743938</td><td>75287 75098 75233 75254 75251 75252 75253 75032 75238 75232 75230 75231 75236 75237 75234 75235 75088 75087 75243 75246 75244 75249 75248 75051 75166 75210 75211 75212 75214 75215 75216 75217 75218 75219 75390 75182 75229 75228 75220 75223 75225 75224 75227 75226 75241 75240 75247 75270 75043 75207 75206 75205 75204 75203 75202 75201 75209 75208 75019 75221 75222 75242 75250 75260 75262 75263 75264 75266 75267 75277 75283 75284 75285 75301 75303 75312 75313 75315 75320 75336 75339 75342 75354 75355 75356 75357 75358 75359 75360 75367 75370 75371 75372 75373 75374 75376 75378 75379 75380 75382 75389 75392 75393 75394 75395 75397 75398</td><td>107</td></tr></tbody></table></div>"
      ]
     },
     "metadata": {
      "application/vnd.databricks.v1+output": {
       "addedWidgets": {},
       "aggData": [],
       "aggError": "",
       "aggOverflow": false,
       "aggSchema": [],
       "aggSeriesLimitReached": false,
       "aggType": "",
       "arguments": {},
       "columnCustomDisplayInfos": {},
       "data": [
        [
         "NEW YORK",
         "NY",
         "NEW YORK",
         "NEW YORK",
         18713220,
         "11229 11226 11225 11224 11222 11221 11220 11385 10169 10168 10167 10165 10162 10282 10280 10040 10044 11109 11104 11105 11379 11378 11377 11697 11694 11692 11693 11691 10271 10279 10278 10075 10302 10301 10452 11451 10475 10474 10471 10470 10473 10472 11228 11223 10103 11368 11369 11366 11367 11364 11365 11362 11363 11360 11361 10028 10029 10026 10027 10024 10025 10022 10023 10020 10021 11212 11213 11210 11211 11216 11217 11214 11215 11218 11219 10152 10153 10154 10307 10306 10305 11429 10310 10311 10312 10314 11432 11433 11430 11436 11434 11435 10453 10451 10457 10456 10455 10454 10459 10458 10128 10004 10005 10006 10007 10001 10002 10003 10009 11238 11239 11230 11231 11232 11233 11234 11235 11236 11237 11375 11374 11371 11370 11373 11372 10170 10171 10172 10173 10174 10177 11351 10039 10038 10035 10034 10037 10036 10031 10030 10033 10032 11201 11208 11203 11205 11204 11207 11206 11209 11411 11412 11413 11414 11415 11416 11417 11418 11419 11101 11102 11103 11106 11001 11005 11004 10065 10069 10199 10309 10308 10304 10303 11428 11421 11420 11423 11422 11425 11424 11427 11426 10466 10467 10464 10465 10462 10463 10460 10461 10468 10469 10119 10115 10112 10110 10111 11359 11358 11357 11356 11355 11354 10019 10018 10013 10012 10011 10010 10017 10016 10014 10008 10041 10043 10055 10060 10080 10081 10087 10090 10101 10102 10104 10105 10106 10107 10108 10109 10113 10114 10116 10117 10118 10120 10121 10122 10123 10124 10125 10126 10129 10130 10131 10132 10133 10138 10150 10151 10155 10156 10157 10158 10159 10160 10163 10164 10166 10175 10176 10178 10179 10185 10203 10211 10212 10213 10242 10249 10256 10258 10259 10260 10261 10265 10268 10269 10270 10272 10273 10274 10275 10276 10277 10281 10285 10286 10313 11120 11202 11241 11242 11243 11245 11247 11249 11251 11252 11256 11352 11380 11381 11386 11405 11431 11437 11439 11499 11690 11695",
         310
        ],
        [
         "LOS ANGELES",
         "CA",
         "CALIFORNIA",
         "LOS ANGELES",
         12750807,
         "90291 90293 90292 91316 91311 90037 90031 90008 90004 90005 90006 90007 90001 90002 90003 90710 90089 91344 91345 91340 91342 91343 90035 90034 90036 90033 90032 90039 90247 90248 91436 91371 91605 91604 91607 91601 91602 90402 90068 90069 90062 90063 90061 90066 90067 90064 90065 91326 91324 91325 90013 90012 90011 90010 90017 90016 90015 90014 90019 90090 90095 90094 91042 91040 91411 91352 91356 90041 90042 90043 90044 90045 90046 90047 90048 90049 90018 91423 90210 91303 91304 91306 91307 90079 90071 90077 90059 91608 91606 91331 91330 91335 90026 90027 90024 90025 90023 90020 90021 90028 90029 90272 90732 90731 90230 91406 91405 91403 91402 91401 91367 91364 90038 90057 90058 90744 90501 90502 90009 90030 90050 90051 90053 90054 90055 90060 90070 90072 90074 90075 90076 90078 90080 90081 90082 90083 90084 90086 90087 90088 90093 90099 90134 90189 90213 90294 90295 90296 90733 90734 90748 91041 91043 91305 91308 91309 91313 91327 91328 91329 91333 91334 91337 91346 91353 91357 91365 91392 91393 91394 91395 91396 91404 91407 91408 91409 91410 91412 91413 91416 91426 91470 91482 91495 91496 91499 91603 91609 91610 91611 91612 91614 91615 91616 91617 91618",
         196
        ],
        [
         "CHICAGO",
         "IL",
         "ILLINOIS",
         "COOK",
         8604203,
         "60018 60649 60641 60640 60643 60642 60645 60644 60647 60646 60616 60617 60614 60615 60612 60613 60610 60611 60618 60619 60827 60638 60639 60634 60636 60637 60630 60631 60632 60633 60605 60604 60607 60606 60601 60603 60602 60609 60608 60106 60661 60660 60659 60652 60653 60651 60656 60657 60654 60655 60623 60622 60621 60620 60626 60625 60624 60629 60628 60707 60499 60664 60666 60668 60669 60670 60673 60674 60675 60677 60678 60680 60681 60684 60685 60686 60687 60688 60689 60690 60694 60695 60696 60699",
         84
        ],
        [
         "MIAMI",
         "FL",
         "FLORIDA",
         "MIAMI-DADE",
         6445545,
         "33129 33125 33126 33127 33128 33149 33144 33145 33142 33139 33138 33137 33136 33135 33134 33133 33132 33131 33130 33150 33101 33109 33111 33151 33222 33231 33233 33238 33255 33299",
         30
        ],
        [
         "DALLAS",
         "TX",
         "TEXAS",
         "DALLAS",
         5743938,
         "75287 75098 75233 75254 75251 75252 75253 75032 75238 75232 75230 75231 75236 75237 75234 75235 75088 75087 75243 75246 75244 75249 75248 75051 75166 75210 75211 75212 75214 75215 75216 75217 75218 75219 75390 75182 75229 75228 75220 75223 75225 75224 75227 75226 75241 75240 75247 75270 75043 75207 75206 75205 75204 75203 75202 75201 75209 75208 75019 75221 75222 75242 75250 75260 75262 75263 75264 75266 75267 75277 75283 75284 75285 75301 75303 75312 75313 75315 75320 75336 75339 75342 75354 75355 75356 75357 75358 75359 75360 75367 75370 75371 75372 75373 75374 75376 75378 75379 75380 75382 75389 75392 75393 75394 75395 75397 75398",
         107
        ]
       ],
       "datasetInfos": [],
       "dbfsResultPath": null,
       "isJsonSchema": true,
       "metadata": {},
       "overflow": false,
       "plotOptions": {
        "customPlotOptions": {},
        "displayType": "table",
        "pivotAggregation": null,
        "pivotColumns": null,
        "xColumns": null,
        "yColumns": null
       },
       "removedWidgets": [],
       "schema": [
        {
         "metadata": "{}",
         "name": "city",
         "type": "\"string\""
        },
        {
         "metadata": "{}",
         "name": "state_id",
         "type": "\"string\""
        },
        {
         "metadata": "{}",
         "name": "state_name",
         "type": "\"string\""
        },
        {
         "metadata": "{}",
         "name": "county_name",
         "type": "\"string\""
        },
        {
         "metadata": "{}",
         "name": "population",
         "type": "\"integer\""
        },
        {
         "metadata": "{}",
         "name": "zips",
         "type": "\"string\""
        },
        {
         "metadata": "{}",
         "name": "zip_counts",
         "type": "\"integer\""
        }
       ],
       "type": "table"
      }
     },
     "output_type": "display_data"
    }
   ],
   "source": [
    "from pyspark.sql.functions import split, size, sum\n",
    "\n",
    "cities_dimension_split = usa_cities_dimension_df.withColumn('zip_counts', size(split('zips', ' ')))\n",
    "\n",
    "display(cities_dimension_split.limit(5))"
   ]
  },
  {
   "cell_type": "markdown",
   "metadata": {
    "application/vnd.databricks.v1+cell": {
     "cellMetadata": {
      "byteLimit": 2048000,
      "rowLimit": 10000
     },
     "inputWidgets": {},
     "nuid": "a8a05901-2485-4410-9563-07fad2170dd9",
     "showTitle": false,
     "title": ""
    }
   },
   "source": [
    "#### Count number of distinct prescribers and sum total_claim_count assigned to each city"
   ]
  },
  {
   "cell_type": "code",
   "execution_count": 0,
   "metadata": {
    "application/vnd.databricks.v1+cell": {
     "cellMetadata": {
      "byteLimit": 2048000,
      "rowLimit": 10000
     },
     "inputWidgets": {},
     "nuid": "b27eec36-40ca-4455-bd81-f5667febce15",
     "showTitle": false,
     "title": ""
    }
   },
   "outputs": [
    {
     "output_type": "display_data",
     "data": {
      "text/html": [
       "<style scoped>\n",
       "  .table-result-container {\n",
       "    max-height: 300px;\n",
       "    overflow: auto;\n",
       "  }\n",
       "  table, th, td {\n",
       "    border: 1px solid black;\n",
       "    border-collapse: collapse;\n",
       "  }\n",
       "  th, td {\n",
       "    padding: 5px;\n",
       "  }\n",
       "  th {\n",
       "    text-align: left;\n",
       "  }\n",
       "</style><div class='table-result-container'><table class='table-result'><thead style='background-color: white'><tr><th>presc_state</th><th>presc_city</th><th>presc_counts</th><th>total_claim_counts</th></tr></thead><tbody><tr><td>CA</td><td>SALINAS</td><td>194</td><td>26601</td></tr><tr><td>MT</td><td>HELENA</td><td>73</td><td>10565</td></tr><tr><td>TN</td><td>BRENTWOOD</td><td>64</td><td>8366</td></tr><tr><td>MO</td><td>LAMAR</td><td>11</td><td>4254</td></tr><tr><td>MN</td><td>SHAKOPEE</td><td>34</td><td>3827</td></tr></tbody></table></div>"
      ]
     },
     "metadata": {
      "application/vnd.databricks.v1+output": {
       "addedWidgets": {},
       "aggData": [],
       "aggError": "",
       "aggOverflow": false,
       "aggSchema": [],
       "aggSeriesLimitReached": false,
       "aggType": "",
       "arguments": {},
       "columnCustomDisplayInfos": {},
       "data": [
        [
         "CA",
         "SALINAS",
         194,
         26601
        ],
        [
         "MT",
         "HELENA",
         73,
         10565
        ],
        [
         "TN",
         "BRENTWOOD",
         64,
         8366
        ],
        [
         "MO",
         "LAMAR",
         11,
         4254
        ],
        [
         "MN",
         "SHAKOPEE",
         34,
         3827
        ]
       ],
       "datasetInfos": [],
       "dbfsResultPath": null,
       "isJsonSchema": true,
       "metadata": {},
       "overflow": false,
       "plotOptions": {
        "customPlotOptions": {},
        "displayType": "table",
        "pivotAggregation": null,
        "pivotColumns": null,
        "xColumns": null,
        "yColumns": null
       },
       "removedWidgets": [],
       "schema": [
        {
         "metadata": "{}",
         "name": "presc_state",
         "type": "\"string\""
        },
        {
         "metadata": "{}",
         "name": "presc_city",
         "type": "\"string\""
        },
        {
         "metadata": "{}",
         "name": "presc_counts",
         "type": "\"long\""
        },
        {
         "metadata": "{}",
         "name": "total_claim_counts",
         "type": "\"long\""
        }
       ],
       "type": "table"
      }
     },
     "output_type": "display_data"
    }
   ],
   "source": [
    "from pyspark.sql.functions import countDistinct\n",
    "\n",
    "usa_presc_grp_df = usa_presc_df.groupBy('presc_state', 'presc_city') \\\n",
    "    .agg(countDistinct('presc_id').alias('presc_counts'), \n",
    "         sum('total_claim_count').alias('total_claim_counts'))\n",
    "\n",
    "display(usa_presc_grp_df.limit(5))"
   ]
  },
  {
   "cell_type": "markdown",
   "metadata": {
    "application/vnd.databricks.v1+cell": {
     "cellMetadata": {
      "byteLimit": 2048000,
      "rowLimit": 10000
     },
     "inputWidgets": {},
     "nuid": "97c3eac8-f942-4fe4-90b8-a94adbf1943b",
     "showTitle": false,
     "title": ""
    }
   },
   "source": [
    "#### Do not report a city if no prescribers is assigned to it\n"
   ]
  },
  {
   "cell_type": "code",
   "execution_count": 0,
   "metadata": {
    "application/vnd.databricks.v1+cell": {
     "cellMetadata": {
      "byteLimit": 2048000,
      "rowLimit": 10000
     },
     "inputWidgets": {},
     "nuid": "ae9b8089-207b-4f99-862f-f9fea3ad9791",
     "showTitle": false,
     "title": ""
    }
   },
   "outputs": [
    {
     "output_type": "display_data",
     "data": {
      "text/html": [
       "<style scoped>\n",
       "  .table-result-container {\n",
       "    max-height: 300px;\n",
       "    overflow: auto;\n",
       "  }\n",
       "  table, th, td {\n",
       "    border: 1px solid black;\n",
       "    border-collapse: collapse;\n",
       "  }\n",
       "  th, td {\n",
       "    padding: 5px;\n",
       "  }\n",
       "  th {\n",
       "    text-align: left;\n",
       "  }\n",
       "</style><div class='table-result-container'><table class='table-result'><thead style='background-color: white'><tr><th>city</th><th>state_name</th><th>county_name</th><th>population</th><th>zip_counts</th><th>presc_counts</th></tr></thead><tbody><tr><td>SALINAS</td><td>CALIFORNIA</td><td>MONTEREY</td><td>190972</td><td>5</td><td>194</td></tr><tr><td>HELENA</td><td>MONTANA</td><td>LEWIS AND CLARK</td><td>52936</td><td>6</td><td>73</td></tr><tr><td>BRENTWOOD</td><td>TENNESSEE</td><td>WILLIAMSON</td><td>42783</td><td>2</td><td>64</td></tr><tr><td>LAMAR</td><td>MISSOURI</td><td>BARTON</td><td>4294</td><td>1</td><td>11</td></tr><tr><td>SHAKOPEE</td><td>MINNESOTA</td><td>SCOTT</td><td>41570</td><td>1</td><td>34</td></tr></tbody></table></div>"
      ]
     },
     "metadata": {
      "application/vnd.databricks.v1+output": {
       "addedWidgets": {},
       "aggData": [],
       "aggError": "",
       "aggOverflow": false,
       "aggSchema": [],
       "aggSeriesLimitReached": false,
       "aggType": "",
       "arguments": {},
       "columnCustomDisplayInfos": {},
       "data": [
        [
         "SALINAS",
         "CALIFORNIA",
         "MONTEREY",
         190972,
         5,
         194
        ],
        [
         "HELENA",
         "MONTANA",
         "LEWIS AND CLARK",
         52936,
         6,
         73
        ],
        [
         "BRENTWOOD",
         "TENNESSEE",
         "WILLIAMSON",
         42783,
         2,
         64
        ],
        [
         "LAMAR",
         "MISSOURI",
         "BARTON",
         4294,
         1,
         11
        ],
        [
         "SHAKOPEE",
         "MINNESOTA",
         "SCOTT",
         41570,
         1,
         34
        ]
       ],
       "datasetInfos": [],
       "dbfsResultPath": null,
       "isJsonSchema": true,
       "metadata": {},
       "overflow": false,
       "plotOptions": {
        "customPlotOptions": {},
        "displayType": "table",
        "pivotAggregation": null,
        "pivotColumns": null,
        "xColumns": null,
        "yColumns": null
       },
       "removedWidgets": [],
       "schema": [
        {
         "metadata": "{}",
         "name": "city",
         "type": "\"string\""
        },
        {
         "metadata": "{}",
         "name": "state_name",
         "type": "\"string\""
        },
        {
         "metadata": "{}",
         "name": "county_name",
         "type": "\"string\""
        },
        {
         "metadata": "{}",
         "name": "population",
         "type": "\"integer\""
        },
        {
         "metadata": "{}",
         "name": "zip_counts",
         "type": "\"integer\""
        },
        {
         "metadata": "{}",
         "name": "presc_counts",
         "type": "\"long\""
        }
       ],
       "type": "table"
      }
     },
     "output_type": "display_data"
    }
   ],
   "source": [
    "from pyspark.sql.functions import col\n",
    "\n",
    "presc_city_join_df = cities_dimension_split.join(usa_presc_grp_df, \n",
    "                                       (col('city') == col('presc_city')) & (col('state_id') == col('presc_state')))\n",
    "\n",
    "presc_city_final_df = presc_city_join_df.select('city', 'state_name', 'county_name', \n",
    "                                                'population', 'zip_counts', 'presc_counts')\n",
    "\n",
    "display(presc_city_final_df.limit(5))"
   ]
  },
  {
   "cell_type": "markdown",
   "metadata": {
    "application/vnd.databricks.v1+cell": {
     "cellMetadata": {
      "byteLimit": 2048000,
      "rowLimit": 10000
     },
     "inputWidgets": {},
     "nuid": "02a0332f-c3ec-486b-91fa-558216c1aefe",
     "showTitle": false,
     "title": ""
    }
   },
   "source": [
    "#### Apply filter on prescribers only from 20 to 50 years of experience and rank the prescribers based on their total claim count for each state "
   ]
  },
  {
   "cell_type": "code",
   "execution_count": 0,
   "metadata": {
    "application/vnd.databricks.v1+cell": {
     "cellMetadata": {
      "byteLimit": 2048000,
      "rowLimit": 10000
     },
     "inputWidgets": {},
     "nuid": "97d71a4a-f6f4-435f-8064-36efe2078c5b",
     "showTitle": false,
     "title": ""
    }
   },
   "outputs": [
    {
     "output_type": "display_data",
     "data": {
      "text/html": [
       "<style scoped>\n",
       "  .table-result-container {\n",
       "    max-height: 300px;\n",
       "    overflow: auto;\n",
       "  }\n",
       "  table, th, td {\n",
       "    border: 1px solid black;\n",
       "    border-collapse: collapse;\n",
       "  }\n",
       "  th, td {\n",
       "    padding: 5px;\n",
       "  }\n",
       "  th {\n",
       "    text-align: left;\n",
       "  }\n",
       "</style><div class='table-result-container'><table class='table-result'><thead style='background-color: white'><tr><th>presc_id</th><th>presc_name</th><th>presc_state</th><th>country</th><th>total_claim_count</th><th>total_day_supply</th><th>years_of_exp</th><th>rank</th></tr></thead><tbody><tr><td>-1662759025</td><td>MARK COOMES</td><td>AA</td><td>USA</td><td>30</td><td>150</td><td>42</td><td>1</td></tr><tr><td>-2046463267</td><td>GEORGE CASSIDY</td><td>AA</td><td>USA</td><td>12</td><td>62</td><td>35</td><td>2</td></tr><tr><td>2086924743</td><td>JILLIAN VOLNEK</td><td>AE</td><td>USA</td><td>246</td><td>9031</td><td>36</td><td>1</td></tr><tr><td>-1996260772</td><td>RICKY VARONE</td><td>AE</td><td>USA</td><td>125</td><td>2430</td><td>30</td><td>2</td></tr><tr><td>2086924743</td><td>JILLIAN VOLNEK</td><td>AE</td><td>USA</td><td>61</td><td>2310</td><td>35</td><td>3</td></tr></tbody></table></div>"
      ]
     },
     "metadata": {
      "application/vnd.databricks.v1+output": {
       "addedWidgets": {},
       "aggData": [],
       "aggError": "",
       "aggOverflow": false,
       "aggSchema": [],
       "aggSeriesLimitReached": false,
       "aggType": "",
       "arguments": {},
       "columnCustomDisplayInfos": {},
       "data": [
        [
         -1662759025,
         "MARK COOMES",
         "AA",
         "USA",
         30,
         150,
         42,
         1
        ],
        [
         -2046463267,
         "GEORGE CASSIDY",
         "AA",
         "USA",
         12,
         62,
         35,
         2
        ],
        [
         2086924743,
         "JILLIAN VOLNEK",
         "AE",
         "USA",
         246,
         9031,
         36,
         1
        ],
        [
         -1996260772,
         "RICKY VARONE",
         "AE",
         "USA",
         125,
         2430,
         30,
         2
        ],
        [
         2086924743,
         "JILLIAN VOLNEK",
         "AE",
         "USA",
         61,
         2310,
         35,
         3
        ]
       ],
       "datasetInfos": [],
       "dbfsResultPath": null,
       "isJsonSchema": true,
       "metadata": {},
       "overflow": false,
       "plotOptions": {
        "customPlotOptions": {},
        "displayType": "table",
        "pivotAggregation": null,
        "pivotColumns": null,
        "xColumns": null,
        "yColumns": null
       },
       "removedWidgets": [],
       "schema": [
        {
         "metadata": "{}",
         "name": "presc_id",
         "type": "\"integer\""
        },
        {
         "metadata": "{}",
         "name": "presc_name",
         "type": "\"string\""
        },
        {
         "metadata": "{}",
         "name": "presc_state",
         "type": "\"string\""
        },
        {
         "metadata": "{}",
         "name": "country",
         "type": "\"string\""
        },
        {
         "metadata": "{}",
         "name": "total_claim_count",
         "type": "\"integer\""
        },
        {
         "metadata": "{}",
         "name": "total_day_supply",
         "type": "\"integer\""
        },
        {
         "metadata": "{}",
         "name": "years_of_exp",
         "type": "\"integer\""
        },
        {
         "metadata": "{}",
         "name": "rank",
         "type": "\"integer\""
        }
       ],
       "type": "table"
      }
     },
     "output_type": "display_data"
    }
   ],
   "source": [
    "from pyspark.sql.window import Window\n",
    "from pyspark.sql.functions import dense_rank, desc\n",
    "\n",
    "rank_spec = Window.partitionBy('presc_state').orderBy(desc('total_claim_count'))\n",
    "\n",
    "usa_presc_ranked_final_df = usa_presc_df \\\n",
    "    .select('presc_id', 'presc_name', 'presc_state', 'country', \n",
    "            'total_claim_count', 'total_day_supply', 'years_of_exp') \\\n",
    "    .filter(col('years_of_exp').between(20, 50)) \\\n",
    "    .withColumn('rank', dense_rank().over(rank_spec)) \\\n",
    "    .filter(col('rank') <= 5)\n",
    "\n",
    "display(usa_presc_ranked_final_df.limit(5))"
   ]
  },
  {
   "cell_type": "markdown",
   "metadata": {
    "application/vnd.databricks.v1+cell": {
     "cellMetadata": {
      "byteLimit": 2048000,
      "rowLimit": 10000
     },
     "inputWidgets": {},
     "nuid": "045bcd42-1c82-4a8d-a124-5a505df546cf",
     "showTitle": false,
     "title": ""
    }
   },
   "source": [
    "#### Write transformed data to presentation container"
   ]
  },
  {
   "cell_type": "code",
   "execution_count": 0,
   "metadata": {
    "application/vnd.databricks.v1+cell": {
     "cellMetadata": {
      "byteLimit": 2048000,
      "rowLimit": 10000
     },
     "inputWidgets": {},
     "nuid": "fb6b3e09-75bd-4c67-a677-f30e7f75fd15",
     "showTitle": false,
     "title": ""
    }
   },
   "outputs": [],
   "source": [
    "presc_city_final_df.write.mode('overwrite') \\\n",
    "    .format('delta').save('/mnt/synapselearningadls/presentation/pharmacy_usa/us_cities_presc')\n",
    "\n",
    "usa_presc_ranked_final_df.write.mode('overwrite') \\\n",
    "    .format('delta').save('/mnt/synapselearningadls/presentation/pharmacy_usa/usa_presc_ranked')"
   ]
  },
  {
   "cell_type": "markdown",
   "metadata": {
    "application/vnd.databricks.v1+cell": {
     "cellMetadata": {
      "byteLimit": 2048000,
      "rowLimit": 10000
     },
     "inputWidgets": {},
     "nuid": "343bf3f4-e114-4b49-a20b-372317b002a9",
     "showTitle": false,
     "title": ""
    }
   },
   "source": []
  }
 ],
 "metadata": {
  "application/vnd.databricks.v1+notebook": {
   "dashboards": [],
   "language": "python",
   "notebookMetadata": {
    "pythonIndentUnit": 4
   },
   "notebookName": "data_transformation",
   "widgets": {}
  }
 },
 "nbformat": 4,
 "nbformat_minor": 0
}
